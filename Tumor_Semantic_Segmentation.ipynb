{
  "nbformat": 4,
  "nbformat_minor": 0,
  "metadata": {
    "colab": {
      "provenance": [],
      "authorship_tag": "ABX9TyPWNuukQxZWxwYfW0IlfyG0",
      "include_colab_link": true
    },
    "kernelspec": {
      "name": "python3",
      "display_name": "Python 3"
    },
    "language_info": {
      "name": "python"
    }
  },
  "cells": [
    {
      "cell_type": "markdown",
      "metadata": {
        "id": "view-in-github",
        "colab_type": "text"
      },
      "source": [
        "<a href=\"https://colab.research.google.com/github/87tana/Image-Segmentation/blob/main/Tumor_Semantic_Segmentation.ipynb\" target=\"_parent\"><img src=\"https://colab.research.google.com/assets/colab-badge.svg\" alt=\"Open In Colab\"/></a>"
      ]
    },
    {
      "cell_type": "code",
      "source": [
        "from google.colab import drive\n",
        "drive.mount('/content/drive/',force_remount=True)\n"
      ],
      "metadata": {
        "id": "0J2k_6fqrhGy",
        "colab": {
          "base_uri": "https://localhost:8080/"
        },
        "outputId": "84938ae3-d7e6-4d4e-bd23-6e7d02434db5"
      },
      "execution_count": 3,
      "outputs": [
        {
          "output_type": "stream",
          "name": "stdout",
          "text": [
            "Mounted at /content/drive/\n"
          ]
        }
      ]
    },
    {
      "cell_type": "code",
      "source": [
        "cd '/content/drive/MyDrive/Project_Experiments/Tumor_Semantic_Segmentation/'"
      ],
      "metadata": {
        "colab": {
          "base_uri": "https://localhost:8080/"
        },
        "id": "7jBC3O0d14Wr",
        "outputId": "ac0cd56b-e89e-415a-ab05-4475002263a4"
      },
      "execution_count": 4,
      "outputs": [
        {
          "output_type": "stream",
          "name": "stdout",
          "text": [
            "/content/drive/MyDrive/Project_Experiments/Tumor_Semantic_Segmentation\n"
          ]
        }
      ]
    },
    {
      "cell_type": "code",
      "source": [
        "# Path to the JSON file\n",
        "train_annotations_path = 'Tumor_Segmentation/train/_annotations.coco.json'\n",
        "valid_annotations_path = 'Tumor_Segmentation/valid/_annotations.coco.json'\n",
        "test_annotations_path = 'Tumor_Segmentation/test/_annotations.coco.json'\n",
        "\n",
        "# Path to image directories\n",
        "train_img_path = 'Tumor_Segmentation/train'\n",
        "valid_img_path = 'Tumor_Segmentation/valid'\n",
        "test_img_path = 'Tumor_Segmentation/test'"
      ],
      "metadata": {
        "id": "MI0Wsk6jU-LF"
      },
      "execution_count": 5,
      "outputs": []
    },
    {
      "cell_type": "code",
      "source": [
        "import os\n",
        "import json\n",
        "import random\n",
        "\n",
        "import pandas as pd\n",
        "import numpy as np\n",
        "\n",
        "import matplotlib.pyplot as plt\n",
        "\n",
        "import cv2\n",
        "import skimage  # import scikit_image\n",
        "import tifffile  # for reading and writing TIFF\n",
        "import shutil #Higher-level interface for file operations, including file copying, removal, and archiving\n"
      ],
      "metadata": {
        "id": "M06M8lb_V2CG"
      },
      "execution_count": 21,
      "outputs": []
    },
    {
      "cell_type": "code",
      "source": [
        "with open(valid_annotations_path,'r') as file:\n",
        "   data = json.load(file)\n"
      ],
      "metadata": {
        "id": "xeL7KyiiVbcO"
      },
      "execution_count": 7,
      "outputs": []
    },
    {
      "cell_type": "code",
      "source": [
        "id=1\n",
        "print(data['images'][id]['file_name'])\n",
        "print(data['images'][id]['width'])\n",
        "print(data['images'][id]['height'])\n",
        "print(data['annotations'][id]['category_id'])\n",
        "print(data['annotations'][id]['segmentation'][0])\n",
        "\n"
      ],
      "metadata": {
        "colab": {
          "base_uri": "https://localhost:8080/"
        },
        "id": "h_ViFeLvWNWY",
        "outputId": "6eb1a7cf-86bf-4bc1-e95d-92e82a6d16ec"
      },
      "execution_count": 8,
      "outputs": [
        {
          "output_type": "stream",
          "name": "stdout",
          "text": [
            "2422_jpg.rf.59a35b6d8d2eed150af8535cf09bbde5.jpg\n",
            "640\n",
            "640\n",
            "1\n",
            "[380, 326.25, 235, 326.25, 235, 475, 380, 475, 380, 326.25]\n"
          ]
        }
      ]
    },
    {
      "cell_type": "code",
      "source": [
        "len(data['images'])"
      ],
      "metadata": {
        "colab": {
          "base_uri": "https://localhost:8080/"
        },
        "id": "Mlegsv71akPt",
        "outputId": "63ed335c-ab3a-43f3-f137-76d96a6c744c"
      },
      "execution_count": 9,
      "outputs": [
        {
          "output_type": "execute_result",
          "data": {
            "text/plain": [
              "429"
            ]
          },
          "metadata": {},
          "execution_count": 9
        }
      ]
    },
    {
      "cell_type": "code",
      "source": [
        "file_name = []\n",
        "width = []\n",
        "height = []\n",
        "category_id = []\n",
        "segmentation = []\n",
        "subset = []\n",
        "\n",
        "for s in ['train', 'valid', 'test']:\n",
        "  with open('Tumor_Segmentation/'+s+'/_annotations.coco.json','r') as file:\n",
        "    data = json.load(file)\n",
        "    for id in range(len(data['images'])):\n",
        "      # Flag to check the annotation availability\n",
        "      ann_available=False\n",
        "      # Look for the corresponding annotation\n",
        "      for j in range(id,len(data['images'])):\n",
        "        if data['annotations'][j]['image_id'] == data['images'][id]['id']:\n",
        "          category_id.append(data['annotations'][j]['category_id'])\n",
        "          segmentation.append(data['annotations'][j]['segmentation'])\n",
        "          ann_available=True\n",
        "          break\n",
        "\n",
        "      if ann_available:\n",
        "        file_name.append(data['images'][id]['file_name'])\n",
        "        width.append(data['images'][id]['width'])\n",
        "        height.append(data['images'][id]['height'])\n",
        "        subset.append(s)\n",
        "      else:\n",
        "        print(f'Annotation is missing for image {id} in {s}')\n",
        "\n",
        "\n",
        "\n",
        "dic = {'file_name': file_name, 'width': width , 'height': height,\\\n",
        "        'category_id': category_id, 'segmentation': segmentation, 'subset': subset}\n",
        "\n"
      ],
      "metadata": {
        "id": "LTFTDurvZSHc",
        "colab": {
          "base_uri": "https://localhost:8080/"
        },
        "outputId": "e2136e28-2cd1-4f81-aac0-5ffd716b429d"
      },
      "execution_count": 128,
      "outputs": [
        {
          "output_type": "stream",
          "name": "stdout",
          "text": [
            "Annotation is missing for image 1380 in train\n"
          ]
        }
      ]
    },
    {
      "cell_type": "code",
      "source": [
        "df = pd.DataFrame.from_dict(dic)\n",
        "df"
      ],
      "metadata": {
        "colab": {
          "base_uri": "https://localhost:8080/",
          "height": 424
        },
        "id": "DCcwzD8UaGmK",
        "outputId": "babaec67-aacd-48a9-b02b-86444941c013"
      },
      "execution_count": 130,
      "outputs": [
        {
          "output_type": "execute_result",
          "data": {
            "text/plain": [
              "                                             file_name  width  height  \\\n",
              "0     2256_jpg.rf.3afd7903eaf3f3c5aa8da4bbb928bc19.jpg    640     640   \n",
              "1     2871_jpg.rf.3b6eadfbb369abc2b3bcb52b406b74f2.jpg    640     640   \n",
              "2     2921_jpg.rf.3b952f91f27a6248091e7601c22323ad.jpg    640     640   \n",
              "3     2777_jpg.rf.3b60ea7f7e70552e70e41528052018bd.jpg    640     640   \n",
              "4     2860_jpg.rf.3bb87fa4f938af5abfb1e17676ec1dad.jpg    640     640   \n",
              "...                                                ...    ...     ...   \n",
              "2140  2456_jpg.rf.fbc4e1bf546033f504b0adbf5959bb50.jpg    640     640   \n",
              "2141  1361_jpg.rf.d77d067dfc6aa94df76a98a34bea8ed5.jpg    640     640   \n",
              "2142  1058_jpg.rf.f6d6dcde9564c091b30eb6873641ba36.jpg    640     640   \n",
              "2143  2817_jpg.rf.eeb513c4ab3414fdda2bbba660318b57.jpg    640     640   \n",
              "2144  2279_jpg.rf.fad5e232a1764258d0c26e17e0562019.jpg    640     640   \n",
              "\n",
              "      category_id                                       segmentation subset  \n",
              "0               1  [[313.75, 238.75, 145, 238.75, 145, 401.25, 31...  train  \n",
              "1               1  [[342.5, 176.25, 193.75, 176.25, 193.75, 410, ...  train  \n",
              "2               1  [[295, 172.5, 132.5, 172.5, 132.5, 357.5, 295,...  train  \n",
              "3               1  [[383.75, 357.5, 245, 357.5, 245, 523.75, 383....  train  \n",
              "4               1  [[192.5, 188.75, 80, 188.75, 80, 321.25, 192.5...  train  \n",
              "...           ...                                                ...    ...  \n",
              "2140            1  [[407.5, 251.25, 180, 251.25, 180, 452.5, 407....   test  \n",
              "2141            2  [[297.5, 275, 202.5, 275, 202.5, 390, 297.5, 3...   test  \n",
              "2142            2  [[423.75, 276.25, 352.5, 276.25, 352.5, 352.5,...   test  \n",
              "2143            1  [[281.25, 386.25, 157.5, 386.25, 157.5, 530, 2...   test  \n",
              "2144            1  [[353.75, 373.75, 227.5, 373.75, 227.5, 481.25...   test  \n",
              "\n",
              "[2145 rows x 6 columns]"
            ],
            "text/html": [
              "\n",
              "  <div id=\"df-e3825461-979d-44d5-a7ff-430fbff77650\" class=\"colab-df-container\">\n",
              "    <div>\n",
              "<style scoped>\n",
              "    .dataframe tbody tr th:only-of-type {\n",
              "        vertical-align: middle;\n",
              "    }\n",
              "\n",
              "    .dataframe tbody tr th {\n",
              "        vertical-align: top;\n",
              "    }\n",
              "\n",
              "    .dataframe thead th {\n",
              "        text-align: right;\n",
              "    }\n",
              "</style>\n",
              "<table border=\"1\" class=\"dataframe\">\n",
              "  <thead>\n",
              "    <tr style=\"text-align: right;\">\n",
              "      <th></th>\n",
              "      <th>file_name</th>\n",
              "      <th>width</th>\n",
              "      <th>height</th>\n",
              "      <th>category_id</th>\n",
              "      <th>segmentation</th>\n",
              "      <th>subset</th>\n",
              "    </tr>\n",
              "  </thead>\n",
              "  <tbody>\n",
              "    <tr>\n",
              "      <th>0</th>\n",
              "      <td>2256_jpg.rf.3afd7903eaf3f3c5aa8da4bbb928bc19.jpg</td>\n",
              "      <td>640</td>\n",
              "      <td>640</td>\n",
              "      <td>1</td>\n",
              "      <td>[[313.75, 238.75, 145, 238.75, 145, 401.25, 31...</td>\n",
              "      <td>train</td>\n",
              "    </tr>\n",
              "    <tr>\n",
              "      <th>1</th>\n",
              "      <td>2871_jpg.rf.3b6eadfbb369abc2b3bcb52b406b74f2.jpg</td>\n",
              "      <td>640</td>\n",
              "      <td>640</td>\n",
              "      <td>1</td>\n",
              "      <td>[[342.5, 176.25, 193.75, 176.25, 193.75, 410, ...</td>\n",
              "      <td>train</td>\n",
              "    </tr>\n",
              "    <tr>\n",
              "      <th>2</th>\n",
              "      <td>2921_jpg.rf.3b952f91f27a6248091e7601c22323ad.jpg</td>\n",
              "      <td>640</td>\n",
              "      <td>640</td>\n",
              "      <td>1</td>\n",
              "      <td>[[295, 172.5, 132.5, 172.5, 132.5, 357.5, 295,...</td>\n",
              "      <td>train</td>\n",
              "    </tr>\n",
              "    <tr>\n",
              "      <th>3</th>\n",
              "      <td>2777_jpg.rf.3b60ea7f7e70552e70e41528052018bd.jpg</td>\n",
              "      <td>640</td>\n",
              "      <td>640</td>\n",
              "      <td>1</td>\n",
              "      <td>[[383.75, 357.5, 245, 357.5, 245, 523.75, 383....</td>\n",
              "      <td>train</td>\n",
              "    </tr>\n",
              "    <tr>\n",
              "      <th>4</th>\n",
              "      <td>2860_jpg.rf.3bb87fa4f938af5abfb1e17676ec1dad.jpg</td>\n",
              "      <td>640</td>\n",
              "      <td>640</td>\n",
              "      <td>1</td>\n",
              "      <td>[[192.5, 188.75, 80, 188.75, 80, 321.25, 192.5...</td>\n",
              "      <td>train</td>\n",
              "    </tr>\n",
              "    <tr>\n",
              "      <th>...</th>\n",
              "      <td>...</td>\n",
              "      <td>...</td>\n",
              "      <td>...</td>\n",
              "      <td>...</td>\n",
              "      <td>...</td>\n",
              "      <td>...</td>\n",
              "    </tr>\n",
              "    <tr>\n",
              "      <th>2140</th>\n",
              "      <td>2456_jpg.rf.fbc4e1bf546033f504b0adbf5959bb50.jpg</td>\n",
              "      <td>640</td>\n",
              "      <td>640</td>\n",
              "      <td>1</td>\n",
              "      <td>[[407.5, 251.25, 180, 251.25, 180, 452.5, 407....</td>\n",
              "      <td>test</td>\n",
              "    </tr>\n",
              "    <tr>\n",
              "      <th>2141</th>\n",
              "      <td>1361_jpg.rf.d77d067dfc6aa94df76a98a34bea8ed5.jpg</td>\n",
              "      <td>640</td>\n",
              "      <td>640</td>\n",
              "      <td>2</td>\n",
              "      <td>[[297.5, 275, 202.5, 275, 202.5, 390, 297.5, 3...</td>\n",
              "      <td>test</td>\n",
              "    </tr>\n",
              "    <tr>\n",
              "      <th>2142</th>\n",
              "      <td>1058_jpg.rf.f6d6dcde9564c091b30eb6873641ba36.jpg</td>\n",
              "      <td>640</td>\n",
              "      <td>640</td>\n",
              "      <td>2</td>\n",
              "      <td>[[423.75, 276.25, 352.5, 276.25, 352.5, 352.5,...</td>\n",
              "      <td>test</td>\n",
              "    </tr>\n",
              "    <tr>\n",
              "      <th>2143</th>\n",
              "      <td>2817_jpg.rf.eeb513c4ab3414fdda2bbba660318b57.jpg</td>\n",
              "      <td>640</td>\n",
              "      <td>640</td>\n",
              "      <td>1</td>\n",
              "      <td>[[281.25, 386.25, 157.5, 386.25, 157.5, 530, 2...</td>\n",
              "      <td>test</td>\n",
              "    </tr>\n",
              "    <tr>\n",
              "      <th>2144</th>\n",
              "      <td>2279_jpg.rf.fad5e232a1764258d0c26e17e0562019.jpg</td>\n",
              "      <td>640</td>\n",
              "      <td>640</td>\n",
              "      <td>1</td>\n",
              "      <td>[[353.75, 373.75, 227.5, 373.75, 227.5, 481.25...</td>\n",
              "      <td>test</td>\n",
              "    </tr>\n",
              "  </tbody>\n",
              "</table>\n",
              "<p>2145 rows × 6 columns</p>\n",
              "</div>\n",
              "    <div class=\"colab-df-buttons\">\n",
              "\n",
              "  <div class=\"colab-df-container\">\n",
              "    <button class=\"colab-df-convert\" onclick=\"convertToInteractive('df-e3825461-979d-44d5-a7ff-430fbff77650')\"\n",
              "            title=\"Convert this dataframe to an interactive table.\"\n",
              "            style=\"display:none;\">\n",
              "\n",
              "  <svg xmlns=\"http://www.w3.org/2000/svg\" height=\"24px\" viewBox=\"0 -960 960 960\">\n",
              "    <path d=\"M120-120v-720h720v720H120Zm60-500h600v-160H180v160Zm220 220h160v-160H400v160Zm0 220h160v-160H400v160ZM180-400h160v-160H180v160Zm440 0h160v-160H620v160ZM180-180h160v-160H180v160Zm440 0h160v-160H620v160Z\"/>\n",
              "  </svg>\n",
              "    </button>\n",
              "\n",
              "  <style>\n",
              "    .colab-df-container {\n",
              "      display:flex;\n",
              "      gap: 12px;\n",
              "    }\n",
              "\n",
              "    .colab-df-convert {\n",
              "      background-color: #E8F0FE;\n",
              "      border: none;\n",
              "      border-radius: 50%;\n",
              "      cursor: pointer;\n",
              "      display: none;\n",
              "      fill: #1967D2;\n",
              "      height: 32px;\n",
              "      padding: 0 0 0 0;\n",
              "      width: 32px;\n",
              "    }\n",
              "\n",
              "    .colab-df-convert:hover {\n",
              "      background-color: #E2EBFA;\n",
              "      box-shadow: 0px 1px 2px rgba(60, 64, 67, 0.3), 0px 1px 3px 1px rgba(60, 64, 67, 0.15);\n",
              "      fill: #174EA6;\n",
              "    }\n",
              "\n",
              "    .colab-df-buttons div {\n",
              "      margin-bottom: 4px;\n",
              "    }\n",
              "\n",
              "    [theme=dark] .colab-df-convert {\n",
              "      background-color: #3B4455;\n",
              "      fill: #D2E3FC;\n",
              "    }\n",
              "\n",
              "    [theme=dark] .colab-df-convert:hover {\n",
              "      background-color: #434B5C;\n",
              "      box-shadow: 0px 1px 3px 1px rgba(0, 0, 0, 0.15);\n",
              "      filter: drop-shadow(0px 1px 2px rgba(0, 0, 0, 0.3));\n",
              "      fill: #FFFFFF;\n",
              "    }\n",
              "  </style>\n",
              "\n",
              "    <script>\n",
              "      const buttonEl =\n",
              "        document.querySelector('#df-e3825461-979d-44d5-a7ff-430fbff77650 button.colab-df-convert');\n",
              "      buttonEl.style.display =\n",
              "        google.colab.kernel.accessAllowed ? 'block' : 'none';\n",
              "\n",
              "      async function convertToInteractive(key) {\n",
              "        const element = document.querySelector('#df-e3825461-979d-44d5-a7ff-430fbff77650');\n",
              "        const dataTable =\n",
              "          await google.colab.kernel.invokeFunction('convertToInteractive',\n",
              "                                                    [key], {});\n",
              "        if (!dataTable) return;\n",
              "\n",
              "        const docLinkHtml = 'Like what you see? Visit the ' +\n",
              "          '<a target=\"_blank\" href=https://colab.research.google.com/notebooks/data_table.ipynb>data table notebook</a>'\n",
              "          + ' to learn more about interactive tables.';\n",
              "        element.innerHTML = '';\n",
              "        dataTable['output_type'] = 'display_data';\n",
              "        await google.colab.output.renderOutput(dataTable, element);\n",
              "        const docLink = document.createElement('div');\n",
              "        docLink.innerHTML = docLinkHtml;\n",
              "        element.appendChild(docLink);\n",
              "      }\n",
              "    </script>\n",
              "  </div>\n",
              "\n",
              "\n",
              "<div id=\"df-2189e908-207b-43b5-9f72-e6b15524168d\">\n",
              "  <button class=\"colab-df-quickchart\" onclick=\"quickchart('df-2189e908-207b-43b5-9f72-e6b15524168d')\"\n",
              "            title=\"Suggest charts\"\n",
              "            style=\"display:none;\">\n",
              "\n",
              "<svg xmlns=\"http://www.w3.org/2000/svg\" height=\"24px\"viewBox=\"0 0 24 24\"\n",
              "     width=\"24px\">\n",
              "    <g>\n",
              "        <path d=\"M19 3H5c-1.1 0-2 .9-2 2v14c0 1.1.9 2 2 2h14c1.1 0 2-.9 2-2V5c0-1.1-.9-2-2-2zM9 17H7v-7h2v7zm4 0h-2V7h2v10zm4 0h-2v-4h2v4z\"/>\n",
              "    </g>\n",
              "</svg>\n",
              "  </button>\n",
              "\n",
              "<style>\n",
              "  .colab-df-quickchart {\n",
              "      --bg-color: #E8F0FE;\n",
              "      --fill-color: #1967D2;\n",
              "      --hover-bg-color: #E2EBFA;\n",
              "      --hover-fill-color: #174EA6;\n",
              "      --disabled-fill-color: #AAA;\n",
              "      --disabled-bg-color: #DDD;\n",
              "  }\n",
              "\n",
              "  [theme=dark] .colab-df-quickchart {\n",
              "      --bg-color: #3B4455;\n",
              "      --fill-color: #D2E3FC;\n",
              "      --hover-bg-color: #434B5C;\n",
              "      --hover-fill-color: #FFFFFF;\n",
              "      --disabled-bg-color: #3B4455;\n",
              "      --disabled-fill-color: #666;\n",
              "  }\n",
              "\n",
              "  .colab-df-quickchart {\n",
              "    background-color: var(--bg-color);\n",
              "    border: none;\n",
              "    border-radius: 50%;\n",
              "    cursor: pointer;\n",
              "    display: none;\n",
              "    fill: var(--fill-color);\n",
              "    height: 32px;\n",
              "    padding: 0;\n",
              "    width: 32px;\n",
              "  }\n",
              "\n",
              "  .colab-df-quickchart:hover {\n",
              "    background-color: var(--hover-bg-color);\n",
              "    box-shadow: 0 1px 2px rgba(60, 64, 67, 0.3), 0 1px 3px 1px rgba(60, 64, 67, 0.15);\n",
              "    fill: var(--button-hover-fill-color);\n",
              "  }\n",
              "\n",
              "  .colab-df-quickchart-complete:disabled,\n",
              "  .colab-df-quickchart-complete:disabled:hover {\n",
              "    background-color: var(--disabled-bg-color);\n",
              "    fill: var(--disabled-fill-color);\n",
              "    box-shadow: none;\n",
              "  }\n",
              "\n",
              "  .colab-df-spinner {\n",
              "    border: 2px solid var(--fill-color);\n",
              "    border-color: transparent;\n",
              "    border-bottom-color: var(--fill-color);\n",
              "    animation:\n",
              "      spin 1s steps(1) infinite;\n",
              "  }\n",
              "\n",
              "  @keyframes spin {\n",
              "    0% {\n",
              "      border-color: transparent;\n",
              "      border-bottom-color: var(--fill-color);\n",
              "      border-left-color: var(--fill-color);\n",
              "    }\n",
              "    20% {\n",
              "      border-color: transparent;\n",
              "      border-left-color: var(--fill-color);\n",
              "      border-top-color: var(--fill-color);\n",
              "    }\n",
              "    30% {\n",
              "      border-color: transparent;\n",
              "      border-left-color: var(--fill-color);\n",
              "      border-top-color: var(--fill-color);\n",
              "      border-right-color: var(--fill-color);\n",
              "    }\n",
              "    40% {\n",
              "      border-color: transparent;\n",
              "      border-right-color: var(--fill-color);\n",
              "      border-top-color: var(--fill-color);\n",
              "    }\n",
              "    60% {\n",
              "      border-color: transparent;\n",
              "      border-right-color: var(--fill-color);\n",
              "    }\n",
              "    80% {\n",
              "      border-color: transparent;\n",
              "      border-right-color: var(--fill-color);\n",
              "      border-bottom-color: var(--fill-color);\n",
              "    }\n",
              "    90% {\n",
              "      border-color: transparent;\n",
              "      border-bottom-color: var(--fill-color);\n",
              "    }\n",
              "  }\n",
              "</style>\n",
              "\n",
              "  <script>\n",
              "    async function quickchart(key) {\n",
              "      const quickchartButtonEl =\n",
              "        document.querySelector('#' + key + ' button');\n",
              "      quickchartButtonEl.disabled = true;  // To prevent multiple clicks.\n",
              "      quickchartButtonEl.classList.add('colab-df-spinner');\n",
              "      try {\n",
              "        const charts = await google.colab.kernel.invokeFunction(\n",
              "            'suggestCharts', [key], {});\n",
              "      } catch (error) {\n",
              "        console.error('Error during call to suggestCharts:', error);\n",
              "      }\n",
              "      quickchartButtonEl.classList.remove('colab-df-spinner');\n",
              "      quickchartButtonEl.classList.add('colab-df-quickchart-complete');\n",
              "    }\n",
              "    (() => {\n",
              "      let quickchartButtonEl =\n",
              "        document.querySelector('#df-2189e908-207b-43b5-9f72-e6b15524168d button');\n",
              "      quickchartButtonEl.style.display =\n",
              "        google.colab.kernel.accessAllowed ? 'block' : 'none';\n",
              "    })();\n",
              "  </script>\n",
              "</div>\n",
              "    </div>\n",
              "  </div>\n"
            ],
            "application/vnd.google.colaboratory.intrinsic+json": {
              "type": "dataframe",
              "variable_name": "df",
              "summary": "{\n  \"name\": \"df\",\n  \"rows\": 2145,\n  \"fields\": [\n    {\n      \"column\": \"file_name\",\n      \"properties\": {\n        \"dtype\": \"string\",\n        \"num_unique_values\": 2145,\n        \"samples\": [\n          \"1604_jpg.rf.8984e0f1b257ec27222b3f059145e7a7.jpg\",\n          \"2058_jpg.rf.04e8e79db0fbf2459585ce3954f50739.jpg\",\n          \"1609_jpg.rf.4f2dc716a5f0527f41e8e7b97574a84d.jpg\"\n        ],\n        \"semantic_type\": \"\",\n        \"description\": \"\"\n      }\n    },\n    {\n      \"column\": \"width\",\n      \"properties\": {\n        \"dtype\": \"number\",\n        \"std\": 0,\n        \"min\": 640,\n        \"max\": 640,\n        \"num_unique_values\": 1,\n        \"samples\": [\n          640\n        ],\n        \"semantic_type\": \"\",\n        \"description\": \"\"\n      }\n    },\n    {\n      \"column\": \"height\",\n      \"properties\": {\n        \"dtype\": \"number\",\n        \"std\": 0,\n        \"min\": 640,\n        \"max\": 640,\n        \"num_unique_values\": 1,\n        \"samples\": [\n          640\n        ],\n        \"semantic_type\": \"\",\n        \"description\": \"\"\n      }\n    },\n    {\n      \"column\": \"category_id\",\n      \"properties\": {\n        \"dtype\": \"number\",\n        \"std\": 0,\n        \"min\": 1,\n        \"max\": 2,\n        \"num_unique_values\": 2,\n        \"samples\": [\n          2\n        ],\n        \"semantic_type\": \"\",\n        \"description\": \"\"\n      }\n    },\n    {\n      \"column\": \"segmentation\",\n      \"properties\": {\n        \"dtype\": \"object\",\n        \"semantic_type\": \"\",\n        \"description\": \"\"\n      }\n    },\n    {\n      \"column\": \"subset\",\n      \"properties\": {\n        \"dtype\": \"category\",\n        \"num_unique_values\": 3,\n        \"samples\": [\n          \"train\"\n        ],\n        \"semantic_type\": \"\",\n        \"description\": \"\"\n      }\n    }\n  ]\n}"
            }
          },
          "metadata": {},
          "execution_count": 130
        }
      ]
    },
    {
      "cell_type": "code",
      "source": [
        "\"\"\"\n",
        "def create_mask(image_info,annotations,output_folder,max_print=3):\n",
        "  mask_np =np.zeros((image_info['height'],image_info['width']),dtype=np.uint8)\n",
        "  obj_number =1\n",
        "  printed_masks =0;\n",
        "   for ann in annotations:\n",
        "      if image_info['id'] == ann['image_id']:\n",
        "          for seg_idx ,seg in enumerate(ann['segmentation']):\n",
        "              rr, cc = skimage.draw.polygon(seg[1::2], seg[0::2], mask_np.shape)\n",
        "              seg_mask = np.zeros_like(mask_np,dtype=np.uint8)\n",
        "              seg_mask[rr,cc]=255\n",
        "              mask_path = os.path.join(output_folder, f\"{image_info['file_name'].replace('.jpg', '')}_seg_{seg_idx}.tif\")\n",
        "              tifffile.imwrite(mask_path, seg_mask)\n",
        "              printed_masks += 1\n",
        "              if printed_masks >= max_print:\n",
        "                  return  # Exit the function if maximum number of masks to print is reached\n",
        "\"\"\""
      ],
      "metadata": {
        "id": "_wZpi_Es0MRx"
      },
      "execution_count": 14,
      "outputs": []
    },
    {
      "cell_type": "code",
      "source": [
        "def create_mask(image_info):\n",
        "  mask_np =np.zeros((image_info['height'],image_info['width']),dtype=np.uint8)\n",
        "  obj_number =1\n",
        "  for seg_idx ,seg in enumerate(image_info['segmentation']):\n",
        "      rr, cc = skimage.draw.polygon(seg[1::2], seg[0::2], mask_np.shape)\n",
        "      mask_np[rr,cc]=1\n",
        "\n",
        "  return mask_np\n",
        "\n",
        "\n",
        "\n",
        "\n"
      ],
      "metadata": {
        "id": "1MjfkIwX2ls3"
      },
      "execution_count": 131,
      "outputs": []
    },
    {
      "cell_type": "code",
      "source": [
        "mask = create_mask(df.loc[0])\n",
        "plt.imshow(mask)"
      ],
      "metadata": {
        "colab": {
          "base_uri": "https://localhost:8080/",
          "height": 452
        },
        "id": "riDJqkCWco25",
        "outputId": "33eab908-5876-41a6-a313-dbbe58873ec6"
      },
      "execution_count": 132,
      "outputs": [
        {
          "output_type": "execute_result",
          "data": {
            "text/plain": [
              "<matplotlib.image.AxesImage at 0x7df50cd4f6a0>"
            ]
          },
          "metadata": {},
          "execution_count": 132
        },
        {
          "output_type": "display_data",
          "data": {
            "text/plain": [
              "<Figure size 640x480 with 1 Axes>"
            ],
            "image/png": "[encoded data removed]"
          },
          "metadata": {}
        }
      ]
    },
    {
      "cell_type": "code",
      "source": [
        "df.loc[0]"
      ],
      "metadata": {
        "colab": {
          "base_uri": "https://localhost:8080/"
        },
        "id": "UFcuoU7o6UIu",
        "outputId": "a7e5ff65-0ce4-4162-d1d1-e3335dbc078c"
      },
      "execution_count": 35,
      "outputs": [
        {
          "output_type": "execute_result",
          "data": {
            "text/plain": [
              "file_name        2256_jpg.rf.3afd7903eaf3f3c5aa8da4bbb928bc19.jpg\n",
              "width                                                         640\n",
              "height                                                        640\n",
              "category_id                                                     1\n",
              "segmentation    [313.75, 238.75, 145, 238.75, 145, 401.25, 313...\n",
              "subset                                                      train\n",
              "Name: 0, dtype: object"
            ]
          },
          "metadata": {},
          "execution_count": 35
        }
      ]
    },
    {
      "cell_type": "code",
      "source": [
        "np.array(df.loc[0]['segmentation']).astype(int)"
      ],
      "metadata": {
        "colab": {
          "base_uri": "https://localhost:8080/"
        },
        "id": "RoMHjNv8cQ4R",
        "outputId": "bdf4cef7-e7ef-43d7-8f43-3d632f4f6ae5"
      },
      "execution_count": 47,
      "outputs": [
        {
          "output_type": "execute_result",
          "data": {
            "text/plain": [
              "array([313, 238, 145, 238, 145, 401, 313, 401, 313, 238])"
            ]
          },
          "metadata": {},
          "execution_count": 47
        }
      ]
    }
  ]
}